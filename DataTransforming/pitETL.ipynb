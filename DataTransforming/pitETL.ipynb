{
 "cells": [
  {
   "cell_type": "code",
   "execution_count": 1,
   "metadata": {},
   "outputs": [],
   "source": [
    "import os\n",
    "import pandas as pd"
   ]
  },
  {
   "cell_type": "code",
   "execution_count": 2,
   "metadata": {},
   "outputs": [],
   "source": [
    "driver_constructor = pd.read_csv(\"C:/Users/GTR/Documents/GitHub/F1_Data_Analysing_RCM/f1db_csv/driver_constructor_2023.csv\")"
   ]
  },
  {
   "cell_type": "code",
   "execution_count": 3,
   "metadata": {},
   "outputs": [
    {
     "name": "stdout",
     "output_type": "stream",
     "text": [
      "Modified data saved to C:/Users/GTR/Documents/GitHub/F1_Data_Analysing_RCM/data_Pitstops/modified_data\\Australia.csv\n",
      "Modified data saved to C:/Users/GTR/Documents/GitHub/F1_Data_Analysing_RCM/data_Pitstops/modified_data\\Austria.csv\n",
      "Modified data saved to C:/Users/GTR/Documents/GitHub/F1_Data_Analysing_RCM/data_Pitstops/modified_data\\Azerbaijan.csv\n",
      "Modified data saved to C:/Users/GTR/Documents/GitHub/F1_Data_Analysing_RCM/data_Pitstops/modified_data\\Bahrain.csv\n",
      "Modified data saved to C:/Users/GTR/Documents/GitHub/F1_Data_Analysing_RCM/data_Pitstops/modified_data\\Belgium.csv\n",
      "Modified data saved to C:/Users/GTR/Documents/GitHub/F1_Data_Analysing_RCM/data_Pitstops/modified_data\\Canada.csv\n",
      "Modified data saved to C:/Users/GTR/Documents/GitHub/F1_Data_Analysing_RCM/data_Pitstops/modified_data\\Hangary.csv\n",
      "Modified data saved to C:/Users/GTR/Documents/GitHub/F1_Data_Analysing_RCM/data_Pitstops/modified_data\\Miami.csv\n",
      "Modified data saved to C:/Users/GTR/Documents/GitHub/F1_Data_Analysing_RCM/data_Pitstops/modified_data\\Monaco.csv\n",
      "Modified data saved to C:/Users/GTR/Documents/GitHub/F1_Data_Analysing_RCM/data_Pitstops/modified_data\\Saudi Arabia.csv\n",
      "Modified data saved to C:/Users/GTR/Documents/GitHub/F1_Data_Analysing_RCM/data_Pitstops/modified_data\\Silverstone.csv\n",
      "Modified data saved to C:/Users/GTR/Documents/GitHub/F1_Data_Analysing_RCM/data_Pitstops/modified_data\\Spain.csv\n"
     ]
    }
   ],
   "source": [
    "# Directory containing the CSV files\n",
    "input_directory = \"C:/Users/GTR/Documents/GitHub/F1_Data_Analysing_RCM/data_Pitstops\"\n",
    "\n",
    "# Output directory to save modified CSV files\n",
    "output_directory = 'C:/Users/GTR/Documents/GitHub/F1_Data_Analysing_RCM/data_Pitstops/modified_data'\n",
    "\n",
    "# Ensure output directory exists\n",
    "os.makedirs(output_directory, exist_ok=True)\n",
    "\n",
    "# List all CSV files in the input directory\n",
    "csv_files = [file for file in os.listdir(input_directory) if file.endswith('.csv')]\n",
    "raceId = 1098\n",
    "all_data = pd.DataFrame()\n",
    "# Loop through each CSV file\n",
    "for csv_file in csv_files:\n",
    "    \n",
    "    country = csv_file[:-4]\n",
    "    input_path = os.path.join(input_directory, csv_file)\n",
    "    output_path = os.path.join(output_directory, csv_file)\n",
    "\n",
    "    # Read the CSV file\n",
    "    df = pd.read_csv(input_path)\n",
    "\n",
    "    # Apply modifications to the DataFrame (replace this with your modifications)\n",
    "    # df['ModifiedColumn'] = df['OriginalColumn'] * 2\n",
    "    df= pd.merge(df,driver_constructor[[\"constructorId\",\"team\"]],left_on='Team', right_on='team').drop_duplicates().reset_index(drop=True)\n",
    "    df= pd.merge(df,driver_constructor[[\"driverId\",\"number\",\"code\",\"surname\"]],left_on='Driver', right_on='surname').sort_values(\"Team\")\n",
    "    df['Country'] = country\n",
    "    df.rename(columns={'Time (sec)': 'Time'}, inplace=True)\n",
    "    df.rename(columns={'Pos.': 'pitstopId'}, inplace=True)\n",
    "    df.drop(columns=['Points'], inplace=True)\n",
    "\n",
    "    all_data = pd.concat([all_data,df])\n",
    "    # Save the modified DataFrame to a new CSV file\n",
    "    df.to_csv(output_path, index=False)\n",
    "\n",
    "    print(f'Modified data saved to {output_path}')\n",
    "all_data.to_csv('C:/Users/GTR/Documents/GitHub/F1_Data_Analysing_RCM/data_Pitstops/modified_data/pitstops.csv', index=False)"
   ]
  }
 ],
 "metadata": {
  "kernelspec": {
   "display_name": "Python 3",
   "language": "python",
   "name": "python3"
  },
  "language_info": {
   "codemirror_mode": {
    "name": "ipython",
    "version": 3
   },
   "file_extension": ".py",
   "mimetype": "text/x-python",
   "name": "python",
   "nbconvert_exporter": "python",
   "pygments_lexer": "ipython3",
   "version": "3.11.2"
  },
  "orig_nbformat": 4
 },
 "nbformat": 4,
 "nbformat_minor": 2
}
