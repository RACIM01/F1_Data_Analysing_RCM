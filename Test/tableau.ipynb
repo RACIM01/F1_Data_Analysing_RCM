{
 "cells": [
  {
   "cell_type": "code",
   "execution_count": 8,
   "metadata": {},
   "outputs": [
    {
     "data": {
      "text/html": [
       "<style type=\"text/css\">\n",
       "#T_79198_row0_col1 {\n",
       "  color: purple;\n",
       "}\n",
       "</style>\n",
       "<table id=\"T_79198\">\n",
       "  <thead>\n",
       "    <tr>\n",
       "      <th class=\"blank level0\" >&nbsp;</th>\n",
       "      <th id=\"T_79198_level0_col0\" class=\"col_heading level0 col0\" >Name</th>\n",
       "      <th id=\"T_79198_level0_col1\" class=\"col_heading level0 col1\" >Age</th>\n",
       "      <th id=\"T_79198_level0_col2\" class=\"col_heading level0 col2\" >Country</th>\n",
       "    </tr>\n",
       "  </thead>\n",
       "  <tbody>\n",
       "    <tr>\n",
       "      <th id=\"T_79198_level0_row0\" class=\"row_heading level0 row0\" >0</th>\n",
       "      <td id=\"T_79198_row0_col0\" class=\"data row0 col0\" >John</td>\n",
       "      <td id=\"T_79198_row0_col1\" class=\"data row0 col1\" >25</td>\n",
       "      <td id=\"T_79198_row0_col2\" class=\"data row0 col2\" >USA</td>\n",
       "    </tr>\n",
       "    <tr>\n",
       "      <th id=\"T_79198_level0_row1\" class=\"row_heading level0 row1\" >1</th>\n",
       "      <td id=\"T_79198_row1_col0\" class=\"data row1 col0\" >Alice</td>\n",
       "      <td id=\"T_79198_row1_col1\" class=\"data row1 col1\" >28</td>\n",
       "      <td id=\"T_79198_row1_col2\" class=\"data row1 col2\" >Canada</td>\n",
       "    </tr>\n",
       "    <tr>\n",
       "      <th id=\"T_79198_level0_row2\" class=\"row_heading level0 row2\" >2</th>\n",
       "      <td id=\"T_79198_row2_col0\" class=\"data row2 col0\" >Bob</td>\n",
       "      <td id=\"T_79198_row2_col1\" class=\"data row2 col1\" >32</td>\n",
       "      <td id=\"T_79198_row2_col2\" class=\"data row2 col2\" >UK</td>\n",
       "    </tr>\n",
       "  </tbody>\n",
       "</table>\n"
      ],
      "text/plain": [
       "<pandas.io.formats.style.Styler at 0x1d9d3044750>"
      ]
     },
     "execution_count": 8,
     "metadata": {},
     "output_type": "execute_result"
    }
   ],
   "source": [
    "import pandas as pd\n",
    "\n",
    "# Create a sample DataFrame\n",
    "data = {\n",
    "    'Name': ['John', 'Alice', 'Bob'],\n",
    "    'Age': [25, 28, 32],\n",
    "    'Country': ['USA', 'Canada', 'UK']\n",
    "}\n",
    "\n",
    "df = pd.DataFrame(data)\n",
    "\n",
    "# Define a function to apply the styling\n",
    "def highlight_min(s):\n",
    "    is_min = s == s.min()\n",
    "    return ['color: purple' if v else '' for v in is_min]\n",
    "\n",
    "# Apply the styling using apply()\n",
    "styled_df = df.style.apply(highlight_min, subset=['Age'])\n",
    "\n",
    "# Display the styled DataFrame\n",
    "styled_df\n"
   ]
  }
 ],
 "metadata": {
  "kernelspec": {
   "display_name": "Python 3",
   "language": "python",
   "name": "python3"
  },
  "language_info": {
   "codemirror_mode": {
    "name": "ipython",
    "version": 3
   },
   "file_extension": ".py",
   "mimetype": "text/x-python",
   "name": "python",
   "nbconvert_exporter": "python",
   "pygments_lexer": "ipython3",
   "version": "3.11.2"
  },
  "orig_nbformat": 4
 },
 "nbformat": 4,
 "nbformat_minor": 2
}
