{
 "cells": [
  {
   "cell_type": "code",
   "execution_count": 4,
   "metadata": {},
   "outputs": [],
   "source": [
    "import pandas as pd\n",
    "from openpyxl.styles import PatternFill\n",
    "from openpyxl import Workbook\n",
    "\n",
    "# Création d'un DataFrame pandas\n",
    "data = {\n",
    "    'Colonne A': [1, 2, 3],\n",
    "    'Colonne B': [4, 5, 6],\n",
    "    'Colonne C': [7, 8, 9]\n",
    "}\n",
    "df = pd.DataFrame(data)\n",
    "\n",
    "# Création d'un nouveau classeur Excel avec openpyxl\n",
    "classeur = Workbook()\n",
    "feuille = classeur.active\n",
    "\n",
    "# Parcours du DataFrame et écriture des valeurs dans la feuille Excel\n",
    "for index, row in df.iterrows():\n",
    "    for col_idx, value in enumerate(row):\n",
    "        feuille.cell(row=index+1, column=col_idx+1, value=value)\n",
    "\n",
    "# Modification des couleurs des cellules\n",
    "couleurs = {\n",
    "    'Colonne A': 'FFFF0000',  # Rouge\n",
    "    'Colonne B': 'FF00FF00',  # Vert\n",
    "    'Colonne C': 'FF0000FF'   # Bleu\n",
    "}\n",
    "\n",
    "for colonne, couleur in couleurs.items():\n",
    "    remplissage = PatternFill(start_color=couleur, end_color=couleur, fill_type='solid')\n",
    "    for row in range(2, feuille.max_row + 1):\n",
    "        cellule = feuille.cell(row=row, column=df.columns.get_loc(colonne) + 1)\n",
    "        cellule.fill = remplissage\n",
    "\n",
    "# Enregistrement du classeur Excel\n",
    "classeur.save('tableau.xlsx')"
   ]
  }
 ],
 "metadata": {
  "kernelspec": {
   "display_name": "Python 3",
   "language": "python",
   "name": "python3"
  },
  "language_info": {
   "codemirror_mode": {
    "name": "ipython",
    "version": 3
   },
   "file_extension": ".py",
   "mimetype": "text/x-python",
   "name": "python",
   "nbconvert_exporter": "python",
   "pygments_lexer": "ipython3",
   "version": "3.11.2"
  },
  "orig_nbformat": 4
 },
 "nbformat": 4,
 "nbformat_minor": 2
}
