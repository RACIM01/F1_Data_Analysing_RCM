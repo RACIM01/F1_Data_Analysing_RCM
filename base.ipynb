{
 "cells": [
  {
   "cell_type": "code",
   "execution_count": null,
   "metadata": {},
   "outputs": [],
   "source": [
    "import fastf1\n",
    "import fastf1.plotting\n",
    "import seaborn as sns\n",
    "import numpy as np\n",
    "import matplotlib.pyplot as plt\n",
    "\n",
    "# enabling misc_mpl_mods will turn on minor grid lines that clutters the plot\n",
    "fastf1.plotting.setup_mpl(mpl_timedelta_support=False, misc_mpl_mods=False)"
   ]
  },
  {
   "cell_type": "code",
   "execution_count": null,
   "metadata": {},
   "outputs": [
    {
     "name": "stderr",
     "output_type": "stream",
     "text": [
      "core           INFO \tLoading data for Austrian Grand Prix - Race [v2.3.1]\n",
      "api            INFO \tFetching driver list...\n"
     ]
    }
   ],
   "source": [
    "race = fastf1.get_session(2023,9,'R')\n",
    "race.load()\n"
   ]
  },
  {
   "cell_type": "markdown",
   "metadata": {},
   "source": [
    "### Pre defined"
   ]
  },
  {
   "cell_type": "code",
   "execution_count": null,
   "metadata": {},
   "outputs": [],
   "source": [
    "compound_color = {'HARD': '#f0f0ec', \n",
    "                  'INTERMEDIATE': '#43b02a', \n",
    "                  'MEDIUM': '#ffd12e', \n",
    "                  'SOFT': '#da291c', \n",
    "                  'TEST-UNKNOWN': '#434649', \n",
    "                  'UNKNOWN': '#00ffff', \n",
    "                  'WET': '#0067ad'}"
   ]
  },
  {
   "cell_type": "markdown",
   "metadata": {},
   "source": [
    "### Code Start"
   ]
  },
  {
   "cell_type": "code",
   "execution_count": null,
   "metadata": {},
   "outputs": [],
   "source": []
  }
 ],
 "metadata": {
  "language_info": {
   "name": "python"
  },
  "orig_nbformat": 4
 },
 "nbformat": 4,
 "nbformat_minor": 2
}
