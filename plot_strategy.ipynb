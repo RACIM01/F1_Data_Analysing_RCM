{
  "cells": [
    {
      "attachments": {},
      "cell_type": "markdown",
      "metadata": {},
      "source": [
        "\n",
        "# Tyre strategies during a race\n",
        "\n",
        "Plot all drivers' tyre strategies during a race.\n"
      ]
    },
    {
      "cell_type": "code",
      "execution_count": 2,
      "metadata": {
        "collapsed": false
      },
      "outputs": [],
      "source": [
        "import fastf1\n",
        "import fastf1.plotting\n",
        "from matplotlib import pyplot as plt"
      ]
    },
    {
      "attachments": {},
      "cell_type": "markdown",
      "metadata": {},
      "source": [
        "Load the race session\n",
        "\n"
      ]
    },
    {
      "cell_type": "code",
      "execution_count": 28,
      "metadata": {
        "collapsed": false
      },
      "outputs": [
        {
          "name": "stderr",
          "output_type": "stream",
          "text": [
            "core           INFO \tLoading data for Austrian Grand Prix - Race [v2.3.1]\n",
            "api            INFO \tFetching driver list...\n",
            "api            INFO \tFetching timing data...\n",
            "api            INFO \tParsing timing data...\n",
            "api         WARNING \tDriver 20: Encountered 1 timing integrity error(s) near lap(s): [34].\n",
            "This might be a bug and should be reported.\n",
            "api            INFO \tFetching timing app data...\n",
            "core           INFO \tProcessing timing data...\n",
            "api            INFO \tFetching session status data...\n",
            "api            INFO \tFetching track status data...\n",
            "c:\\Users\\GTR\\AppData\\Local\\Programs\\Python\\Python311\\Lib\\site-packages\\fastf1\\core.py:1492: FutureWarning: iteritems is deprecated and will be removed in a future version. Use .items instead.\n",
            "  for key, value in row.iteritems():\n",
            "c:\\Users\\GTR\\AppData\\Local\\Programs\\Python\\Python311\\Lib\\site-packages\\fastf1\\core.py:1492: FutureWarning: iteritems is deprecated and will be removed in a future version. Use .items instead.\n",
            "  for key, value in row.iteritems():\n",
            "c:\\Users\\GTR\\AppData\\Local\\Programs\\Python\\Python311\\Lib\\site-packages\\fastf1\\core.py:1415: FutureWarning: In a future version, object-dtype columns with all-bool values will not be included in reductions with bool_only=True. Explicitly cast to bool dtype instead.\n",
            "  df = pd.concat([df, result], sort=False)\n",
            "c:\\Users\\GTR\\AppData\\Local\\Programs\\Python\\Python311\\Lib\\site-packages\\fastf1\\core.py:1492: FutureWarning: iteritems is deprecated and will be removed in a future version. Use .items instead.\n",
            "  for key, value in row.iteritems():\n",
            "c:\\Users\\GTR\\AppData\\Local\\Programs\\Python\\Python311\\Lib\\site-packages\\fastf1\\core.py:1415: FutureWarning: In a future version, object-dtype columns with all-bool values will not be included in reductions with bool_only=True. Explicitly cast to bool dtype instead.\n",
            "  df = pd.concat([df, result], sort=False)\n",
            "c:\\Users\\GTR\\AppData\\Local\\Programs\\Python\\Python311\\Lib\\site-packages\\fastf1\\core.py:1415: FutureWarning: In a future version, object-dtype columns with all-bool values will not be included in reductions with bool_only=True. Explicitly cast to bool dtype instead.\n",
            "  df = pd.concat([df, result], sort=False)\n",
            "c:\\Users\\GTR\\AppData\\Local\\Programs\\Python\\Python311\\Lib\\site-packages\\fastf1\\core.py:1415: FutureWarning: In a future version, object-dtype columns with all-bool values will not be included in reductions with bool_only=True. Explicitly cast to bool dtype instead.\n",
            "  df = pd.concat([df, result], sort=False)\n",
            "c:\\Users\\GTR\\AppData\\Local\\Programs\\Python\\Python311\\Lib\\site-packages\\fastf1\\core.py:1492: FutureWarning: iteritems is deprecated and will be removed in a future version. Use .items instead.\n",
            "  for key, value in row.iteritems():\n",
            "c:\\Users\\GTR\\AppData\\Local\\Programs\\Python\\Python311\\Lib\\site-packages\\fastf1\\core.py:1415: FutureWarning: In a future version, object-dtype columns with all-bool values will not be included in reductions with bool_only=True. Explicitly cast to bool dtype instead.\n",
            "  df = pd.concat([df, result], sort=False)\n",
            "c:\\Users\\GTR\\AppData\\Local\\Programs\\Python\\Python311\\Lib\\site-packages\\fastf1\\core.py:1492: FutureWarning: iteritems is deprecated and will be removed in a future version. Use .items instead.\n",
            "  for key, value in row.iteritems():\n",
            "c:\\Users\\GTR\\AppData\\Local\\Programs\\Python\\Python311\\Lib\\site-packages\\fastf1\\core.py:1415: FutureWarning: In a future version, object-dtype columns with all-bool values will not be included in reductions with bool_only=True. Explicitly cast to bool dtype instead.\n",
            "  df = pd.concat([df, result], sort=False)\n",
            "c:\\Users\\GTR\\AppData\\Local\\Programs\\Python\\Python311\\Lib\\site-packages\\fastf1\\core.py:1492: FutureWarning: iteritems is deprecated and will be removed in a future version. Use .items instead.\n",
            "  for key, value in row.iteritems():\n",
            "c:\\Users\\GTR\\AppData\\Local\\Programs\\Python\\Python311\\Lib\\site-packages\\fastf1\\core.py:1415: FutureWarning: In a future version, object-dtype columns with all-bool values will not be included in reductions with bool_only=True. Explicitly cast to bool dtype instead.\n",
            "  df = pd.concat([df, result], sort=False)\n",
            "c:\\Users\\GTR\\AppData\\Local\\Programs\\Python\\Python311\\Lib\\site-packages\\fastf1\\core.py:1415: FutureWarning: In a future version, object-dtype columns with all-bool values will not be included in reductions with bool_only=True. Explicitly cast to bool dtype instead.\n",
            "  df = pd.concat([df, result], sort=False)\n",
            "c:\\Users\\GTR\\AppData\\Local\\Programs\\Python\\Python311\\Lib\\site-packages\\fastf1\\core.py:1492: FutureWarning: iteritems is deprecated and will be removed in a future version. Use .items instead.\n",
            "  for key, value in row.iteritems():\n",
            "c:\\Users\\GTR\\AppData\\Local\\Programs\\Python\\Python311\\Lib\\site-packages\\fastf1\\core.py:1415: FutureWarning: In a future version, object-dtype columns with all-bool values will not be included in reductions with bool_only=True. Explicitly cast to bool dtype instead.\n",
            "  df = pd.concat([df, result], sort=False)\n",
            "c:\\Users\\GTR\\AppData\\Local\\Programs\\Python\\Python311\\Lib\\site-packages\\fastf1\\core.py:1492: FutureWarning: iteritems is deprecated and will be removed in a future version. Use .items instead.\n",
            "  for key, value in row.iteritems():\n",
            "c:\\Users\\GTR\\AppData\\Local\\Programs\\Python\\Python311\\Lib\\site-packages\\fastf1\\core.py:1415: FutureWarning: In a future version, object-dtype columns with all-bool values will not be included in reductions with bool_only=True. Explicitly cast to bool dtype instead.\n",
            "  df = pd.concat([df, result], sort=False)\n",
            "c:\\Users\\GTR\\AppData\\Local\\Programs\\Python\\Python311\\Lib\\site-packages\\fastf1\\core.py:1492: FutureWarning: iteritems is deprecated and will be removed in a future version. Use .items instead.\n",
            "  for key, value in row.iteritems():\n",
            "c:\\Users\\GTR\\AppData\\Local\\Programs\\Python\\Python311\\Lib\\site-packages\\fastf1\\core.py:1415: FutureWarning: In a future version, object-dtype columns with all-bool values will not be included in reductions with bool_only=True. Explicitly cast to bool dtype instead.\n",
            "  df = pd.concat([df, result], sort=False)\n",
            "c:\\Users\\GTR\\AppData\\Local\\Programs\\Python\\Python311\\Lib\\site-packages\\fastf1\\core.py:1492: FutureWarning: iteritems is deprecated and will be removed in a future version. Use .items instead.\n",
            "  for key, value in row.iteritems():\n",
            "c:\\Users\\GTR\\AppData\\Local\\Programs\\Python\\Python311\\Lib\\site-packages\\fastf1\\core.py:1415: FutureWarning: In a future version, object-dtype columns with all-bool values will not be included in reductions with bool_only=True. Explicitly cast to bool dtype instead.\n",
            "  df = pd.concat([df, result], sort=False)\n",
            "c:\\Users\\GTR\\AppData\\Local\\Programs\\Python\\Python311\\Lib\\site-packages\\fastf1\\core.py:1415: FutureWarning: In a future version, object-dtype columns with all-bool values will not be included in reductions with bool_only=True. Explicitly cast to bool dtype instead.\n",
            "  df = pd.concat([df, result], sort=False)\n",
            "c:\\Users\\GTR\\AppData\\Local\\Programs\\Python\\Python311\\Lib\\site-packages\\fastf1\\core.py:1492: FutureWarning: iteritems is deprecated and will be removed in a future version. Use .items instead.\n",
            "  for key, value in row.iteritems():\n",
            "c:\\Users\\GTR\\AppData\\Local\\Programs\\Python\\Python311\\Lib\\site-packages\\fastf1\\core.py:1415: FutureWarning: In a future version, object-dtype columns with all-bool values will not be included in reductions with bool_only=True. Explicitly cast to bool dtype instead.\n",
            "  df = pd.concat([df, result], sort=False)\n",
            "c:\\Users\\GTR\\AppData\\Local\\Programs\\Python\\Python311\\Lib\\site-packages\\fastf1\\core.py:1415: FutureWarning: In a future version, object-dtype columns with all-bool values will not be included in reductions with bool_only=True. Explicitly cast to bool dtype instead.\n",
            "  df = pd.concat([df, result], sort=False)\n",
            "c:\\Users\\GTR\\AppData\\Local\\Programs\\Python\\Python311\\Lib\\site-packages\\fastf1\\core.py:1415: FutureWarning: In a future version, object-dtype columns with all-bool values will not be included in reductions with bool_only=True. Explicitly cast to bool dtype instead.\n",
            "  df = pd.concat([df, result], sort=False)\n",
            "c:\\Users\\GTR\\AppData\\Local\\Programs\\Python\\Python311\\Lib\\site-packages\\fastf1\\core.py:1492: FutureWarning: iteritems is deprecated and will be removed in a future version. Use .items instead.\n",
            "  for key, value in row.iteritems():\n",
            "c:\\Users\\GTR\\AppData\\Local\\Programs\\Python\\Python311\\Lib\\site-packages\\fastf1\\core.py:1415: FutureWarning: In a future version, object-dtype columns with all-bool values will not be included in reductions with bool_only=True. Explicitly cast to bool dtype instead.\n",
            "  df = pd.concat([df, result], sort=False)\n",
            "c:\\Users\\GTR\\AppData\\Local\\Programs\\Python\\Python311\\Lib\\site-packages\\fastf1\\core.py:1492: FutureWarning: iteritems is deprecated and will be removed in a future version. Use .items instead.\n",
            "  for key, value in row.iteritems():\n",
            "c:\\Users\\GTR\\AppData\\Local\\Programs\\Python\\Python311\\Lib\\site-packages\\fastf1\\core.py:1415: FutureWarning: In a future version, object-dtype columns with all-bool values will not be included in reductions with bool_only=True. Explicitly cast to bool dtype instead.\n",
            "  df = pd.concat([df, result], sort=False)\n",
            "c:\\Users\\GTR\\AppData\\Local\\Programs\\Python\\Python311\\Lib\\site-packages\\fastf1\\core.py:1492: FutureWarning: iteritems is deprecated and will be removed in a future version. Use .items instead.\n",
            "  for key, value in row.iteritems():\n",
            "c:\\Users\\GTR\\AppData\\Local\\Programs\\Python\\Python311\\Lib\\site-packages\\fastf1\\core.py:1415: FutureWarning: In a future version, object-dtype columns with all-bool values will not be included in reductions with bool_only=True. Explicitly cast to bool dtype instead.\n",
            "  df = pd.concat([df, result], sort=False)\n",
            "api            INFO \tFetching car data...\n",
            "api            INFO \tParsing car data...\n",
            "api            INFO \tFetching position data...\n",
            "api            INFO \tParsing position data...\n",
            "api         WARNING \tDriver 241: Position data is incomplete!\n",
            "api         WARNING \tDriver 242: Position data is incomplete!\n",
            "api         WARNING \tDriver 243: Position data is incomplete!\n",
            "api            INFO \tFetching weather data...\n",
            "api            INFO \tFetching race control messages...\n",
            "core           INFO \tFinished loading data for 20 drivers: ['1', '16', '11', '4', '14', '55', '63', '44', '18', '10', '23', '24', '2', '31', '77', '81', '21', '20', '22', '27']\n"
          ]
        }
      ],
      "source": [
        "session = fastf1.get_session(2023,9,'R')\n",
        "session.load()\n",
        "compound_color = {'HARD': '#f0f0ec', 'INTERMEDIATE': '#43b02a', 'MEDIUM': '#ffd12e', 'SOFT': '#da291c', 'TEST-UNKNOWN': '#434649', 'UNKNOWN': '#00ffff', 'WET': '#0067ad'}\n",
        "laps = session.laps"
      ]
    },
    {
      "attachments": {},
      "cell_type": "markdown",
      "metadata": {},
      "source": [
        "Get the list of driver numbers\n",
        "\n"
      ]
    },
    {
      "cell_type": "code",
      "execution_count": 29,
      "metadata": {
        "collapsed": false
      },
      "outputs": [
        {
          "name": "stdout",
          "output_type": "stream",
          "text": [
            "['1', '16', '11', '4', '14', '55', '63', '44', '18', '10', '23', '24', '2', '31', '77', '81', '21', '20', '22', '27']\n"
          ]
        }
      ],
      "source": [
        "drivers = session.drivers\n",
        "print(drivers)"
      ]
    },
    {
      "attachments": {},
      "cell_type": "markdown",
      "metadata": {},
      "source": [
        "Convert the driver numbers to three letter abbreviations\n",
        "\n"
      ]
    },
    {
      "cell_type": "code",
      "execution_count": 30,
      "metadata": {
        "collapsed": false
      },
      "outputs": [
        {
          "name": "stdout",
          "output_type": "stream",
          "text": [
            "['VER', 'LEC', 'PER', 'NOR', 'ALO', 'SAI', 'RUS', 'HAM', 'STR', 'GAS', 'ALB', 'ZHO', 'SAR', 'OCO', 'BOT', 'PIA', 'DEV', 'MAG', 'TSU', 'HUL']\n"
          ]
        }
      ],
      "source": [
        "drivers = [session.get_driver(driver)[\"Abbreviation\"] for driver in drivers]\n",
        "print(drivers)"
      ]
    },
    {
      "attachments": {},
      "cell_type": "markdown",
      "metadata": {},
      "source": [
        "We need to find the stint length and compound used\n",
        "for every stint by every driver.\n",
        "We do this by first grouping the laps by the driver,\n",
        "the stint number, and the compound.\n",
        "And then counting the number of laps in each group.\n",
        "\n"
      ]
    },
    {
      "cell_type": "code",
      "execution_count": 31,
      "metadata": {
        "collapsed": false
      },
      "outputs": [
        {
          "data": {
            "text/html": [
              "<div>\n",
              "<style scoped>\n",
              "    .dataframe tbody tr th:only-of-type {\n",
              "        vertical-align: middle;\n",
              "    }\n",
              "\n",
              "    .dataframe tbody tr th {\n",
              "        vertical-align: top;\n",
              "    }\n",
              "\n",
              "    .dataframe thead th {\n",
              "        text-align: right;\n",
              "    }\n",
              "</style>\n",
              "<table border=\"1\" class=\"dataframe\">\n",
              "  <thead>\n",
              "    <tr style=\"text-align: right;\">\n",
              "      <th></th>\n",
              "      <th>Driver</th>\n",
              "      <th>Stint</th>\n",
              "      <th>Compound</th>\n",
              "      <th>LapNumber</th>\n",
              "    </tr>\n",
              "  </thead>\n",
              "  <tbody>\n",
              "    <tr>\n",
              "      <th>74</th>\n",
              "      <td>VER</td>\n",
              "      <td>1</td>\n",
              "      <td>MEDIUM</td>\n",
              "      <td>2</td>\n",
              "    </tr>\n",
              "    <tr>\n",
              "      <th>75</th>\n",
              "      <td>VER</td>\n",
              "      <td>2</td>\n",
              "      <td>MEDIUM</td>\n",
              "      <td>22</td>\n",
              "    </tr>\n",
              "    <tr>\n",
              "      <th>76</th>\n",
              "      <td>VER</td>\n",
              "      <td>3</td>\n",
              "      <td>HARD</td>\n",
              "      <td>25</td>\n",
              "    </tr>\n",
              "    <tr>\n",
              "      <th>77</th>\n",
              "      <td>VER</td>\n",
              "      <td>4</td>\n",
              "      <td>MEDIUM</td>\n",
              "      <td>20</td>\n",
              "    </tr>\n",
              "    <tr>\n",
              "      <th>78</th>\n",
              "      <td>VER</td>\n",
              "      <td>5</td>\n",
              "      <td>SOFT</td>\n",
              "      <td>2</td>\n",
              "    </tr>\n",
              "  </tbody>\n",
              "</table>\n",
              "</div>"
            ],
            "text/plain": [
              "   Driver  Stint Compound  LapNumber\n",
              "74    VER      1   MEDIUM          2\n",
              "75    VER      2   MEDIUM         22\n",
              "76    VER      3     HARD         25\n",
              "77    VER      4   MEDIUM         20\n",
              "78    VER      5     SOFT          2"
            ]
          },
          "execution_count": 31,
          "metadata": {},
          "output_type": "execute_result"
        }
      ],
      "source": [
        "stints = laps[[\"Driver\", \"Stint\", \"Compound\", \"LapNumber\"]]\n",
        "stints = stints.groupby([\"Driver\", \"Stint\", \"Compound\"])\n",
        "stints = stints.count().reset_index()"
      ]
    },
    {
      "cell_type": "code",
      "execution_count": 60,
      "metadata": {},
      "outputs": [
        {
          "data": {
            "text/plain": [
              "<pandas.core.groupby.generic.DataFrameGroupBy object at 0x000001DBBE84FFD0>"
            ]
          },
          "execution_count": 60,
          "metadata": {},
          "output_type": "execute_result"
        }
      ],
      "source": [
        "stints.groupby([\"Driver\", \"Stint\", \"Compound\"])"
      ]
    },
    {
      "cell_type": "code",
      "execution_count": 26,
      "metadata": {},
      "outputs": [
        {
          "data": {
            "text/html": [
              "<div>\n",
              "<style scoped>\n",
              "    .dataframe tbody tr th:only-of-type {\n",
              "        vertical-align: middle;\n",
              "    }\n",
              "\n",
              "    .dataframe tbody tr th {\n",
              "        vertical-align: top;\n",
              "    }\n",
              "\n",
              "    .dataframe thead th {\n",
              "        text-align: right;\n",
              "    }\n",
              "</style>\n",
              "<table border=\"1\" class=\"dataframe\">\n",
              "  <thead>\n",
              "    <tr style=\"text-align: right;\">\n",
              "      <th></th>\n",
              "      <th>Driver</th>\n",
              "      <th>Stint</th>\n",
              "      <th>Compound</th>\n",
              "      <th>LapNumber</th>\n",
              "    </tr>\n",
              "  </thead>\n",
              "  <tbody>\n",
              "    <tr>\n",
              "      <th>0</th>\n",
              "      <td>VER</td>\n",
              "      <td>1</td>\n",
              "      <td>HARD</td>\n",
              "      <td>1</td>\n",
              "    </tr>\n",
              "    <tr>\n",
              "      <th>1</th>\n",
              "      <td>VER</td>\n",
              "      <td>1</td>\n",
              "      <td>HARD</td>\n",
              "      <td>2</td>\n",
              "    </tr>\n",
              "    <tr>\n",
              "      <th>2</th>\n",
              "      <td>VER</td>\n",
              "      <td>1</td>\n",
              "      <td>HARD</td>\n",
              "      <td>3</td>\n",
              "    </tr>\n",
              "    <tr>\n",
              "      <th>3</th>\n",
              "      <td>VER</td>\n",
              "      <td>1</td>\n",
              "      <td>HARD</td>\n",
              "      <td>4</td>\n",
              "    </tr>\n",
              "    <tr>\n",
              "      <th>4</th>\n",
              "      <td>VER</td>\n",
              "      <td>1</td>\n",
              "      <td>HARD</td>\n",
              "      <td>5</td>\n",
              "    </tr>\n",
              "    <tr>\n",
              "      <th>...</th>\n",
              "      <td>...</td>\n",
              "      <td>...</td>\n",
              "      <td>...</td>\n",
              "      <td>...</td>\n",
              "    </tr>\n",
              "    <tr>\n",
              "      <th>599</th>\n",
              "      <td>PIA</td>\n",
              "      <td>6</td>\n",
              "      <td>MEDIUM</td>\n",
              "      <td>32</td>\n",
              "    </tr>\n",
              "    <tr>\n",
              "      <th>600</th>\n",
              "      <td>PIA</td>\n",
              "      <td>6</td>\n",
              "      <td>MEDIUM</td>\n",
              "      <td>33</td>\n",
              "    </tr>\n",
              "    <tr>\n",
              "      <th>601</th>\n",
              "      <td>PIA</td>\n",
              "      <td>6</td>\n",
              "      <td>MEDIUM</td>\n",
              "      <td>34</td>\n",
              "    </tr>\n",
              "    <tr>\n",
              "      <th>602</th>\n",
              "      <td>PIA</td>\n",
              "      <td>6</td>\n",
              "      <td>MEDIUM</td>\n",
              "      <td>35</td>\n",
              "    </tr>\n",
              "    <tr>\n",
              "      <th>603</th>\n",
              "      <td>PIA</td>\n",
              "      <td>6</td>\n",
              "      <td>MEDIUM</td>\n",
              "      <td>36</td>\n",
              "    </tr>\n",
              "  </tbody>\n",
              "</table>\n",
              "<p>604 rows × 4 columns</p>\n",
              "</div>"
            ],
            "text/plain": [
              "    Driver  Stint Compound  LapNumber\n",
              "0      VER      1     HARD          1\n",
              "1      VER      1     HARD          2\n",
              "2      VER      1     HARD          3\n",
              "3      VER      1     HARD          4\n",
              "4      VER      1     HARD          5\n",
              "..     ...    ...      ...        ...\n",
              "599    PIA      6   MEDIUM         32\n",
              "600    PIA      6   MEDIUM         33\n",
              "601    PIA      6   MEDIUM         34\n",
              "602    PIA      6   MEDIUM         35\n",
              "603    PIA      6   MEDIUM         36\n",
              "\n",
              "[604 rows x 4 columns]"
            ]
          },
          "execution_count": 26,
          "metadata": {},
          "output_type": "execute_result"
        }
      ],
      "source": [
        "laps[[\"Driver\", \"Stint\", \"Compound\", \"LapNumber\"]]"
      ]
    },
    {
      "attachments": {},
      "cell_type": "markdown",
      "metadata": {},
      "source": [
        "The number in the LapNumber column now stands for the number of observations\n",
        "in that group aka the stint length.\n",
        "\n"
      ]
    },
    {
      "cell_type": "code",
      "execution_count": 32,
      "metadata": {
        "collapsed": false
      },
      "outputs": [
        {
          "name": "stdout",
          "output_type": "stream",
          "text": [
            "   Driver  Stint Compound  StintLength\n",
            "0     ALB      1   MEDIUM            2\n",
            "1     ALB      2   MEDIUM           12\n",
            "2     ALB      3     HARD           27\n",
            "3     ALB      4     HARD           30\n",
            "4     ALO      1     HARD            2\n",
            "..    ...    ...      ...          ...\n",
            "78    VER      5     SOFT            2\n",
            "79    ZHO      1   MEDIUM            2\n",
            "80    ZHO      2   MEDIUM            6\n",
            "81    ZHO      3     HARD           30\n",
            "82    ZHO      4     HARD           32\n",
            "\n",
            "[83 rows x 4 columns]\n"
          ]
        }
      ],
      "source": [
        "stints = stints.rename(columns={\"LapNumber\": \"StintLength\"})\n",
        "print(stints)"
      ]
    },
    {
      "attachments": {},
      "cell_type": "markdown",
      "metadata": {},
      "source": [
        "Now we can plot the strategies for each driver\n",
        "\n"
      ]
    },
    {
      "cell_type": "code",
      "execution_count": 51,
      "metadata": {},
      "outputs": [
        {
          "data": {
            "text/html": [
              "<div>\n",
              "<style scoped>\n",
              "    .dataframe tbody tr th:only-of-type {\n",
              "        vertical-align: middle;\n",
              "    }\n",
              "\n",
              "    .dataframe tbody tr th {\n",
              "        vertical-align: top;\n",
              "    }\n",
              "\n",
              "    .dataframe thead th {\n",
              "        text-align: right;\n",
              "    }\n",
              "</style>\n",
              "<table border=\"1\" class=\"dataframe\">\n",
              "  <thead>\n",
              "    <tr style=\"text-align: right;\">\n",
              "      <th></th>\n",
              "      <th>Driver</th>\n",
              "      <th>Stint</th>\n",
              "      <th>Compound</th>\n",
              "      <th>StintLength</th>\n",
              "    </tr>\n",
              "  </thead>\n",
              "  <tbody>\n",
              "    <tr>\n",
              "      <th>74</th>\n",
              "      <td>VER</td>\n",
              "      <td>1</td>\n",
              "      <td>MEDIUM</td>\n",
              "      <td>2</td>\n",
              "    </tr>\n",
              "    <tr>\n",
              "      <th>75</th>\n",
              "      <td>VER</td>\n",
              "      <td>2</td>\n",
              "      <td>MEDIUM</td>\n",
              "      <td>22</td>\n",
              "    </tr>\n",
              "    <tr>\n",
              "      <th>76</th>\n",
              "      <td>VER</td>\n",
              "      <td>3</td>\n",
              "      <td>HARD</td>\n",
              "      <td>25</td>\n",
              "    </tr>\n",
              "    <tr>\n",
              "      <th>77</th>\n",
              "      <td>VER</td>\n",
              "      <td>4</td>\n",
              "      <td>MEDIUM</td>\n",
              "      <td>20</td>\n",
              "    </tr>\n",
              "    <tr>\n",
              "      <th>78</th>\n",
              "      <td>VER</td>\n",
              "      <td>5</td>\n",
              "      <td>SOFT</td>\n",
              "      <td>2</td>\n",
              "    </tr>\n",
              "  </tbody>\n",
              "</table>\n",
              "</div>"
            ],
            "text/plain": [
              "   Driver  Stint Compound  StintLength\n",
              "74    VER      1   MEDIUM            2\n",
              "75    VER      2   MEDIUM           22\n",
              "76    VER      3     HARD           25\n",
              "77    VER      4   MEDIUM           20\n",
              "78    VER      5     SOFT            2"
            ]
          },
          "execution_count": 51,
          "metadata": {},
          "output_type": "execute_result"
        }
      ],
      "source": [
        "driver_stints = stints.loc[stints[\"Driver\"] == 'VER']\n",
        "driver_stints"
      ]
    },
    {
      "cell_type": "code",
      "execution_count": 53,
      "metadata": {},
      "outputs": [
        {
          "data": {
            "text/plain": [
              "<generator object DataFrame.iterrows at 0x000001DBB2E157A0>"
            ]
          },
          "execution_count": 53,
          "metadata": {},
          "output_type": "execute_result"
        }
      ],
      "source": [
        "driver_stints.iterrows()"
      ]
    },
    {
      "cell_type": "code",
      "execution_count": 56,
      "metadata": {
        "collapsed": false
      },
      "outputs": [
        {
          "data": {
            "image/png": "[encoded data removed]",
            "text/plain": [
              "<Figure size 1000x700 with 1 Axes>"
            ]
          },
          "metadata": {},
          "output_type": "display_data"
        }
      ],
      "source": [
        "fig, ax = plt.subplots(figsize=(10, 7))\n",
        "\n",
        "for driver in drivers:\n",
        "    driver_stints = stints.loc[stints[\"Driver\"] == driver]\n",
        "\n",
        "    previous_stint_end = 0\n",
        "    for idx, row in driver_stints.iterrows():\n",
        "        # each row contains the compound name and stint length\n",
        "        # we can use these information to draw horizontal bars\n",
        "        plt.barh(\n",
        "            y=driver,\n",
        "            width=row[\"StintLength\"],\n",
        "            left=previous_stint_end,\n",
        "            color=compound_color[row[\"Compound\"]],\n",
        "            edgecolor=\"black\",\n",
        "            fill=True\n",
        "        )\n",
        "\n",
        "        previous_stint_end += row[\"StintLength\"]"
      ]
    }
  ],
  "metadata": {
    "kernelspec": {
      "display_name": "Python 3",
      "language": "python",
      "name": "python3"
    },
    "language_info": {
      "codemirror_mode": {
        "name": "ipython",
        "version": 3
      },
      "file_extension": ".py",
      "mimetype": "text/x-python",
      "name": "python",
      "nbconvert_exporter": "python",
      "pygments_lexer": "ipython3",
      "version": "3.11.2"
    }
  },
  "nbformat": 4,
  "nbformat_minor": 0
}
