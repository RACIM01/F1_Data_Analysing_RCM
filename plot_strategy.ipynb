{
  "cells": [
    {
      "attachments": {},
      "cell_type": "markdown",
      "metadata": {},
      "source": [
        "\n",
        "# Tyre strategies during a race\n",
        "\n",
        "Plot all drivers' tyre strategies during a race.\n"
      ]
    },
    {
      "cell_type": "code",
      "execution_count": null,
      "metadata": {
        "collapsed": false
      },
      "outputs": [],
      "source": [
        "import fastf1\n",
        "import fastf1.plotting\n",
        "from matplotlib import pyplot as plt"
      ]
    },
    {
      "attachments": {},
      "cell_type": "markdown",
      "metadata": {},
      "source": [
        "Load the race session\n",
        "\n"
      ]
    },
    {
      "cell_type": "code",
      "execution_count": null,
      "metadata": {
        "collapsed": false
      },
      "outputs": [],
      "source": [
        "session = fastf1.get_session(2023,9,'R')\n",
        "session.load()\n",
        "compound_color = {'HARD': '#f0f0ec', 'INTERMEDIATE': '#43b02a', 'MEDIUM': '#ffd12e', 'SOFT': '#da291c', 'TEST-UNKNOWN': '#434649', 'UNKNOWN': '#00ffff', 'WET': '#0067ad'}\n",
        "laps = session.laps"
      ]
    },
    {
      "attachments": {},
      "cell_type": "markdown",
      "metadata": {},
      "source": [
        "Get the list of driver numbers\n",
        "\n"
      ]
    },
    {
      "cell_type": "code",
      "execution_count": null,
      "metadata": {
        "collapsed": false
      },
      "outputs": [],
      "source": [
        "drivers = session.drivers\n",
        "print(drivers)"
      ]
    },
    {
      "attachments": {},
      "cell_type": "markdown",
      "metadata": {},
      "source": [
        "Convert the driver numbers to three letter abbreviations\n",
        "\n"
      ]
    },
    {
      "cell_type": "code",
      "execution_count": null,
      "metadata": {
        "collapsed": false
      },
      "outputs": [],
      "source": [
        "drivers = [session.get_driver(driver)[\"Abbreviation\"] for driver in drivers]\n",
        "print(drivers)"
      ]
    },
    {
      "attachments": {},
      "cell_type": "markdown",
      "metadata": {},
      "source": [
        "We need to find the stint length and compound used\n",
        "for every stint by every driver.\n",
        "We do this by first grouping the laps by the driver,\n",
        "the stint number, and the compound.\n",
        "And then counting the number of laps in each group.\n",
        "\n"
      ]
    },
    {
      "cell_type": "code",
      "execution_count": null,
      "metadata": {
        "collapsed": false
      },
      "outputs": [],
      "source": [
        "stints = laps[[\"Driver\", \"Stint\", \"Compound\", \"LapNumber\"]]\n",
        "stints = stints.groupby([\"Driver\", \"Stint\", \"Compound\"])\n",
        "stints = stints.count().reset_index()\n",
        "stints.groupby([\"Driver\", \"Stint\", \"Compound\"])\n",
        "stints = stints.rename(columns={\"LapNumber\": \"StintLength\"})\n",
        "laps[[\"Driver\", \"Stint\", \"Compound\", \"LapNumber\"]]"
      ]
    },
    {
      "attachments": {},
      "cell_type": "markdown",
      "metadata": {},
      "source": [
        "The number in the LapNumber column now stands for the number of observations\n",
        "in that group aka the stint length.\n",
        "\n"
      ]
    },
    {
      "attachments": {},
      "cell_type": "markdown",
      "metadata": {},
      "source": [
        "Now we can plot the strategies for each driver\n",
        "\n"
      ]
    },
    {
      "cell_type": "code",
      "execution_count": null,
      "metadata": {},
      "outputs": [],
      "source": [
        "driver_stints = stints.loc[stints[\"Driver\"] == 'VER']\n",
        "driver_stints"
      ]
    },
    {
      "cell_type": "code",
      "execution_count": null,
      "metadata": {},
      "outputs": [],
      "source": [
        "driver_stints.iterrows()"
      ]
    },
    {
      "cell_type": "code",
      "execution_count": null,
      "metadata": {
        "collapsed": false
      },
      "outputs": [],
      "source": [
        "fig, ax = plt.subplots(figsize=(10, 7))\n",
        "\n",
        "for driver in drivers:\n",
        "    driver_stints = stints.loc[stints[\"Driver\"] == driver]\n",
        "\n",
        "    previous_stint_end = 0\n",
        "    for idx, row in driver_stints.iterrows():\n",
        "        # each row contains the compound name and stint length\n",
        "        # we can use these information to draw horizontal bars\n",
        "        plt.barh(\n",
        "            y=driver,\n",
        "            width=row[\"StintLength\"],\n",
        "            left=previous_stint_end,\n",
        "            color=compound_color[row[\"Compound\"]],\n",
        "            edgecolor=\"black\",\n",
        "            fill=True\n",
        "        )\n",
        "\n",
        "        previous_stint_end += row[\"StintLength\"]"
      ]
    }
  ],
  "metadata": {
    "kernelspec": {
      "display_name": "Python 3",
      "language": "python",
      "name": "python3"
    },
    "language_info": {
      "codemirror_mode": {
        "name": "ipython",
        "version": 3
      },
      "file_extension": ".py",
      "mimetype": "text/x-python",
      "name": "python",
      "nbconvert_exporter": "python",
      "pygments_lexer": "ipython3",
      "version": "3.11.2"
    }
  },
  "nbformat": 4,
  "nbformat_minor": 0
}
