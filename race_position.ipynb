{
 "cells": [
  {
   "cell_type": "code",
   "execution_count": 1,
   "metadata": {},
   "outputs": [],
   "source": [
    "import fastf1\n",
    "import fastf1.plotting\n",
    "import seaborn as sns\n",
    "import numpy as np\n",
    "import matplotlib.pyplot as plt\n",
    "\n",
    "# enabling misc_mpl_mods will turn on minor grid lines that clutters the plot\n",
    "fastf1.plotting.setup_mpl(mpl_timedelta_support=False, misc_mpl_mods=False)"
   ]
  },
  {
   "cell_type": "markdown",
   "metadata": {},
   "source": [
    "### Pre defined"
   ]
  },
  {
   "cell_type": "code",
   "execution_count": null,
   "metadata": {},
   "outputs": [],
   "source": [
    "compound_color = {'HARD': '#f0f0ec', \n",
    "                  'INTERMEDIATE': '#43b02a', \n",
    "                  'MEDIUM': '#ffd12e', \n",
    "                  'SOFT': '#da291c', \n",
    "                  'TEST-UNKNOWN': '#434649', \n",
    "                  'UNKNOWN': '#00ffff', \n",
    "                  'WET': '#0067ad'}"
   ]
  },
  {
   "cell_type": "code",
   "execution_count": null,
   "metadata": {},
   "outputs": [
    {
     "name": "stderr",
     "output_type": "stream",
     "text": [
      "core           INFO \tLoading data for Austrian Grand Prix - Race [v2.3.1]\n",
      "api            INFO \tFetching driver list...\n"
     ]
    }
   ],
   "source": [
    "race = fastf1.get_session(2023,9,'R')\n",
    "race.load()\n"
   ]
  },
  {
   "cell_type": "markdown",
   "metadata": {},
   "source": [
    "### Code Start"
   ]
  },
  {
   "cell_type": "code",
   "execution_count": null,
   "metadata": {},
   "outputs": [],
   "source": []
  }
 ],
 "metadata": {
  "kernelspec": {
   "display_name": "Python 3",
   "language": "python",
   "name": "python3"
  },
  "language_info": {
   "codemirror_mode": {
    "name": "ipython",
    "version": 3
   },
   "file_extension": ".py",
   "mimetype": "text/x-python",
   "name": "python",
   "nbconvert_exporter": "python",
   "pygments_lexer": "ipython3",
   "version": "3.11.2"
  },
  "orig_nbformat": 4
 },
 "nbformat": 4,
 "nbformat_minor": 2
}
